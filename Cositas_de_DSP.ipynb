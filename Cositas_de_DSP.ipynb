{
  "nbformat": 4,
  "nbformat_minor": 0,
  "metadata": {
    "colab": {
      "name": "Cositas de DSP.ipynb",
      "provenance": [],
      "collapsed_sections": [],
      "toc_visible": true,
      "authorship_tag": "ABX9TyN9rzPpypO2nxRDTUF7f+hL",
      "include_colab_link": true
    },
    "kernelspec": {
      "display_name": "Python 3",
      "name": "python3"
    },
    "accelerator": "GPU"
  },
  "cells": [
    {
      "cell_type": "markdown",
      "metadata": {
        "id": "view-in-github",
        "colab_type": "text"
      },
      "source": [
        "<a href=\"https://colab.research.google.com/github/mrpep/my-colabs/blob/master/Cositas_de_DSP.ipynb\" target=\"_parent\"><img src=\"https://colab.research.google.com/assets/colab-badge.svg\" alt=\"Open In Colab\"/></a>"
      ]
    },
    {
      "cell_type": "code",
      "metadata": {
        "id": "fE0ZM4ycVLp_"
      },
      "source": [
        "!pip install librosa --upgrade\n",
        "exit()"
      ],
      "execution_count": null,
      "outputs": []
    },
    {
      "cell_type": "code",
      "metadata": {
        "id": "prkG-TVRrAm1"
      },
      "source": [
        "import librosa\n",
        "from IPython.display import Audio\n",
        "import tensorflow as tf\n",
        "import numpy as np\n",
        "from timeit import default_timer as timer\n",
        "import tqdm\n",
        "import pandas as pd\n",
        "import seaborn as sns\n",
        "import matplotlib.pyplot as plt"
      ],
      "execution_count": null,
      "outputs": []
    },
    {
      "cell_type": "markdown",
      "metadata": {
        "id": "fC20sKSvSQdh"
      },
      "source": [
        "# Cálculo de espectrogramas en GPU vs CPU"
      ]
    },
    {
      "cell_type": "code",
      "metadata": {
        "id": "AO4XRxwKRcuQ"
      },
      "source": [
        "!nvidia-smi"
      ],
      "execution_count": null,
      "outputs": []
    },
    {
      "cell_type": "code",
      "metadata": {
        "id": "asQ1wOLZuOZg",
        "cellView": "form"
      },
      "source": [
        "#@title Performance en GPU vs CPU\n",
        "# Funcion generica para cálculo de espectrogramas, melspectrogramas tanto en CPU como GPU\n",
        "def spectrogram(x, hardware = 'gpu', stft_params = None, mel_params = None, representation = 'magnitude', eps=1e-12, sr=16000, n_mfcc=12):\n",
        "  \"\"\"\n",
        "  hardware: puede ser 'gpu' o 'cpu'\n",
        "  stft_params: diccionario con las siguientes claves:\n",
        "  - window_size\n",
        "  - window\n",
        "  - hop_size\n",
        "  - fft_size: por default es igual a window_size\n",
        "  mel_params: diccionario con las siguientes claves:\n",
        "  - lower_edge_hertz: frecuencia minima en Hz usada en el calculo de melspectrogramas\n",
        "  - upper_edge_hertz: frecuencia maxima en Hz usada en el calculo de melspectrogramas\n",
        "  - num_mel_bins: cantidad de filtros en escala Mel utilizados\n",
        "  representation: atributos espectrales a calcular. Puede ser:\n",
        "  - stft: transformada de corto término de Fourier (STFT)\n",
        "  - magnitude: magnitud de la STFT\n",
        "  - phase: fase de la STFT\n",
        "  - melspectrogram: espectrograma en escala de frecuencias mel\n",
        "  - logmelspectrogram\n",
        "  - mfcc: coeficientes cepstrales en frecuencia mel\n",
        "  eps: pequeño valor sumado al calcular logs para evitar posibles log(0)\n",
        "  sr: sampling rate, utilizado al calcular melspectrogramas, logmelspectrogramas y mfccs\n",
        "  n_mfcc: cantidad de MFCCs\n",
        "  \"\"\"\n",
        "  if hardware == 'gpu':\n",
        "    x = tf.signal.stft(x,\n",
        "                       frame_length=stft_params['window_size'],\n",
        "                       frame_step=stft_params['hop_size'],\n",
        "                       fft_length=stft_params.get('fft_size',stft_params['window_size']),\n",
        "                       window_fn=stft_params.get('window',tf.signal.hann_window))\n",
        "    if representation == 'magnitude':\n",
        "      return tf.abs(x)\n",
        "    elif representation == 'stft':\n",
        "      return x\n",
        "    elif representation == 'phase':\n",
        "      return tf.angle(x)\n",
        "    elif representation in ['melspectrogram','logmelspectrogram','mfcc']:\n",
        "      x = tf.abs(x)\n",
        "      linear_to_mel_matrix = tf.signal.linear_to_mel_weight_matrix(sample_rate=sr,**mel_params)\n",
        "      melspectrogram = tf.matmul(x,linear_to_mel_matrix)\n",
        "      logmelspectrogram = tf.math.log(melspectrogram + eps)\n",
        "      if representation == 'melspectrogram':\n",
        "        return melspectrogram\n",
        "      elif representation == 'logmelspectrogram':\n",
        "        return logmelspectrogram\n",
        "      elif representation == 'mfcc':\n",
        "        return tf.signal.mfccs_from_log_mel_spectrograms(logmelspectrogram)[:n_mfcc]\n",
        "  elif hardware == 'cpu':\n",
        "    def cpu_spectral_features(x):\n",
        "      if representation in ['stft','magnitude','phase']:\n",
        "        y = librosa.stft(x, \n",
        "                         n_fft=stft_params.get('fft_size',stft_params['window_size']),\n",
        "                         hop_length=stft_params['hop_size'],\n",
        "                         win_length=stft_params['window_size'],\n",
        "                         window=stft_params.get('window',np.hanning))\n",
        "        if representation == 'stft':\n",
        "          return y\n",
        "        elif representation == 'magnitude':\n",
        "          return np.abs(y)\n",
        "        elif representation == 'phase':\n",
        "          return np.angle(y)\n",
        "      elif representation in ['melspectrogram','logmelspectrogram']:\n",
        "        y = librosa.melspectrogram(x,\n",
        "                                   sr=sr,\n",
        "                                   n_fft=stft_params.get('fft_size',stft_params['window_size']),\n",
        "                                   hop_length=stft_params['hop_size'],\n",
        "                                   win_length=stft_params['window_size'],\n",
        "                                   fmin=mel_params['lower_edge_hertz'],\n",
        "                                   fmax=mel_params['upper_edge_hertz'],\n",
        "                                   n_mels=mel_params['num_mel_bins'])\n",
        "        if representation == 'melspectrogram':\n",
        "          return y\n",
        "        elif representation == 'logmelspectrogram':\n",
        "          return np.log(y + eps)\n",
        "      elif representation == 'mfcc':\n",
        "        return librosa.feature.mfcc(x,\n",
        "                                    sr=sr,\n",
        "                                    n_mfcc=n_mfcc,\n",
        "                                    n_fft=stft_params.get('fft_size',stft_params['window_size']),\n",
        "                                    hop_length=stft_params['hop_size'],\n",
        "                                    win_length=stft_params['window_size'],\n",
        "                                    fmin=mel_params['lower_edge_hertz'],\n",
        "                                    fmax=mel_params['upper_edge_hertz'],\n",
        "                                    n_mels=mel_params['num_mel_bins'])\n",
        "\n",
        "    spec = list(map(cpu_spectral_features,x))\n",
        "    return np.stack(spec)\n",
        "\n",
        "stft_params = dict(window_size=2048, hop_size=512)\n",
        "\n",
        "times = []\n",
        "device = []\n",
        "win_lengths = []\n",
        "\n",
        "reps = 10\n",
        "N = 100\n",
        "\n",
        "possible_win_lengths = 2**(np.arange(5,14))\n",
        "test_signal = np.random.uniform(-1,1,size=(N,16384))\n",
        "for win_length in tqdm.tqdm(possible_win_lengths):\n",
        "  stft_params['window_size'] = int(win_length)\n",
        "  stft_params['hop_size'] = int(win_length/2)\n",
        "  for rep in range(reps):\n",
        "    start = timer()\n",
        "    result = spectrogram(test_signal,hardware = 'cpu',stft_params = stft_params,representation='stft')\n",
        "    end = timer()\n",
        "    times.append(end - start)\n",
        "    device.append('CPU')\n",
        "    win_lengths.append(win_length)\n",
        "\n",
        "    start = timer()\n",
        "    result = spectrogram(test_signal,hardware = 'gpu',stft_params = stft_params,representation='stft')\n",
        "    end = timer()\n",
        "    times.append(end - start)\n",
        "    device.append('GPU')\n",
        "    win_lengths.append(win_length)\n",
        "\n",
        "performance_df = pd.DataFrame({'time': times,'device': device,'win_length': win_lengths})\n",
        "sns.set_context('poster')\n",
        "plt.figure(figsize=(10,7))\n",
        "sns.lineplot(data=performance_df,x='win_length',y='time',hue='device')"
      ],
      "execution_count": null,
      "outputs": []
    },
    {
      "cell_type": "markdown",
      "metadata": {
        "id": "r-t09R6Adgkx"
      },
      "source": [
        "# Procesamiento de espectrogramas\n",
        "\n",
        "<img src=\"https://www.mathworks.com/help/signal/ref/iscola0111.png\" alt=\"STFT-ISTFT\" style=\"display:block;margin-left:auto;margin-right:auto;width:400px;\"/>"
      ]
    },
    {
      "cell_type": "code",
      "metadata": {
        "id": "v9_TClQ11prv"
      },
      "source": [
        "!wget https://archive.org/download/MICHAELJACKSON_201905/01%20Billie%20Jean.mp3"
      ],
      "execution_count": null,
      "outputs": []
    },
    {
      "cell_type": "code",
      "metadata": {
        "id": "qqQlEHUoaZrv",
        "cellView": "form"
      },
      "source": [
        "x, fs = librosa.core.load('01 Billie Jean.mp3',sr=None)\n",
        "\n",
        "WINDOW_SIZE = 2048 #@param {type:\"number\"}\n",
        "HOP_SIZE = 512 #@param {type:\"number\"}\n",
        "WIN_TYPE = \"hanning\" #@param [\"hanning\", \"blackman\", \"rectangular\", \"triangular\"]\n",
        "\n",
        "x = np.expand_dims(x[25*fs:35*fs],axis=0)\n",
        "\n",
        "window = {'hanning':np.hanning,'blackman':np.blackman,'rectangular':np.ones,'triangular':np.bartlett}\n",
        "stft_params = dict(window_size=WINDOW_SIZE,hop_size=HOP_SIZE,window=window[WIN_TYPE])\n",
        "stft_i = spectrogram(x,hardware = 'cpu',stft_params = stft_params,representation='stft')\n",
        "stft_i = stft_i[0]\n",
        "stft_plot = 10*np.log10(np.abs(stft_i) + 1e-9)\n",
        "plt.figure(figsize=(15,7))\n",
        "plt.imshow(stft_plot,aspect='auto',origin='bottom',vmin=np.quantile(stft_plot,0.1),vmax=np.max(stft_plot))\n"
      ],
      "execution_count": null,
      "outputs": []
    },
    {
      "cell_type": "markdown",
      "metadata": {
        "id": "ZhoC2gHy5wUX"
      },
      "source": [
        "# Reconstrucción\n",
        "## Criterio Constant Overlap and Add (COLA)"
      ]
    },
    {
      "cell_type": "code",
      "metadata": {
        "id": "tYmV-PAn5_zF",
        "cellView": "form"
      },
      "source": [
        "def check_cola(window,hop_size,title='',n_windows=10):\n",
        "  win_length = window.shape[0]\n",
        "  ola_result = np.zeros(hop_size*n_windows + win_length)\n",
        "  plt.figure(figsize=(12,6))\n",
        "  for i in range(n_windows):\n",
        "    win_i = np.zeros(hop_size*n_windows + win_length)\n",
        "    win_i[i*hop_size:i*hop_size+win_length] = window\n",
        "    ola_result[i*hop_size:i*hop_size+win_length] = ola_result[i*hop_size:i*hop_size+win_length] + window\n",
        "    plt.plot(win_i)\n",
        "  plt.plot(ola_result,linewidth=2,color='k')\n",
        "  plt.title(title)\n",
        "\n",
        "WIN_SIZE = 2048 #@param {type:\"number\"}\n",
        "HOP_SIZE = 512 #@param {type:\"number\"}\n",
        "win_type = \"hanning\" #@param [\"hanning\", \"blackman\", \"rectangular\", \"triangular\"]\n",
        "\n",
        "window = {'hanning':np.hanning,'blackman':np.blackman,'rectangular':np.ones,'triangular':np.bartlett}\n",
        "check_cola(window[win_type](WIN_SIZE),HOP_SIZE,title='{} (W={}, H={})'.format(win_type,WIN_SIZE,HOP_SIZE))"
      ],
      "execution_count": null,
      "outputs": []
    },
    {
      "cell_type": "code",
      "metadata": {
        "id": "HX5O01NQ6Zxi"
      },
      "source": [
        "recovered = librosa.istft(stft_i,win_length=stft_params['window_size'],hop_length=stft_params['hop_size'],window=stft_params['window'])\n",
        "display(Audio(recovered,rate=fs))\n",
        "plt.title('Error')\n",
        "plt.plot(recovered-x[0])"
      ],
      "execution_count": null,
      "outputs": []
    },
    {
      "cell_type": "markdown",
      "metadata": {
        "id": "Y3A0Rcoc-0mh"
      },
      "source": [
        "# Ejemplo de procesamiento en dominio Tiempo-Frecuencia\n",
        "## Separación en componentes armónicas y percusivas (HPSS)\n",
        "### Estimación de componentes armónicas y percusivas"
      ]
    },
    {
      "cell_type": "code",
      "metadata": {
        "id": "p-_cLFJk8oxT",
        "cellView": "form"
      },
      "source": [
        "def librosa_hpss(path,ksize=17,window_size=2048,hop_size=512,window = None,init_audio=None,end_audio=None):\n",
        "  if window is None:\n",
        "    window = np.hanning(window_size)\n",
        "\n",
        "  x, fs = librosa.core.load(path,sr=None)\n",
        "\n",
        "  if init_audio is None:\n",
        "    init_audio = 0\n",
        "  else:\n",
        "    init_audio = int(init_audio*fs)\n",
        "  if end_audio is None:\n",
        "    end_audio = x.shape[0]\n",
        "  else:\n",
        "    end_audio = int(end_audio*fs)\n",
        "\n",
        "  x = x[init_audio:end_audio]\n",
        "\n",
        "  spectrogram = librosa.stft(x,win_length = window_size,hop_length=hop_size,window=window)\n",
        "\n",
        "  h_spec, p_spec = librosa.decompose.hpss(spectrogram,kernel_size = ksize)\n",
        "  h = librosa.istft(h_spec,hop_length=hop_size,win_length=window_size,window=window)\n",
        "  p = librosa.istft(p_spec,hop_length=hop_size,win_length=window_size,window=window)\n",
        "\n",
        "  return spectrogram,h,p,h_spec,p_spec,fs\n",
        "\n",
        "#@markdown ¿Qué efecto tiene el tamaño del filtro? ¿Cómo interactúa con el tamaño de ventana y salto? ¿Qué se escucha si no se cumple el criterio COLA? ¿Qué instrumentos musicales tenderán a ser separados si aplico HPSS en una canción de rock?\n",
        "\n",
        "PATH = \"01 Billie Jean.mp3\" #@param {type:\"string\"}\n",
        "WIN_SIZE = 2048 #@param {type:\"number\"}\n",
        "HOP_SIZE = 512 #@param {type:\"number\"}\n",
        "kernel_size = 30 #@param {type:\"slider\", min:5, max: 50}\n",
        "\n",
        "win_type = \"hanning\" #@param [\"hanning\", \"blackman\", \"rectangular\", \"triangular\"]\n",
        "init_audio = 25 #@param {type:\"number\"}\n",
        "end_audio = 35 #@param {type:\"number\"}\n",
        "window = {'hanning':np.hanning,'blackman':np.blackman,'rectangular':np.ones,'triangular':np.bartlett} \n",
        "\n",
        "spec, harm, perc, h_spec,p_spec,fs = librosa_hpss(PATH,kernel_size,WIN_SIZE,HOP_SIZE,window[win_type](WIN_SIZE),init_audio=init_audio,end_audio=end_audio)\n",
        "\n",
        "stft_plot = 10*np.log10(np.abs(spec) + 1e-9)\n",
        "plt.figure(figsize=(25,7))\n",
        "plt.title('Espectrograma original')\n",
        "plt.imshow(stft_plot,aspect='auto',origin='bottom',vmin=np.quantile(stft_plot,0.1),vmax=np.max(stft_plot))\n",
        "\n",
        "fig,ax = plt.subplots(ncols=2,nrows=1,figsize=(25,7))\n",
        "stft_plot = 10*np.log10(np.abs(h_spec) + 1e-9)\n",
        "ax[0].imshow(stft_plot,aspect='auto',origin='bottom',vmin=np.quantile(stft_plot,0.1),vmax=np.max(stft_plot))\n",
        "ax[0].set_title('Componentes armonicas')\n",
        "stft_plot = 10*np.log10(np.abs(p_spec) + 1e-9)\n",
        "ax[1].set_title('Componentes percusivas')\n",
        "ax[1].imshow(stft_plot,aspect='auto',origin='bottom',vmin=np.quantile(stft_plot,0.1),vmax=np.max(stft_plot))\n",
        "\n",
        "print('Componentes armónicas')\n",
        "display(Audio(harm,rate=fs))\n",
        "print('Componentes percusivas')\n",
        "display(Audio(perc,rate=fs))"
      ],
      "execution_count": null,
      "outputs": []
    },
    {
      "cell_type": "markdown",
      "metadata": {
        "id": "aVb1Hu9RCysQ"
      },
      "source": [
        "### Máscaras\n",
        "\n",
        "#### Máscaras binarias\n",
        "\n",
        "Para separar las componentes armónicas y percusivas, o en general fuentes, podemos armar un filtro en el dominio tiempo-frecuencia que simplemente atenúe las partes del espectro que no deseamos y preserve las que si. Una forma sencilla de calcular este filtro es fijandose para cada elemento del espectrograma si la fuente que deseo separar posee más energía que las demás fuentes. Si la fuente predomina, el filtro toma valor 1 y por ende conserva el elemento, por el contrario si no predomina el filtro toma valor 0 y el elemento se elimina. Esto resulta en la generación de una máscara binaria:\n",
        "\n",
        "$M_i[n,k]=\n",
        "\\begin{cases}\n",
        "\\text{$1 \\quad si \\quad S_i \\geq S_j \\quad \\forall i \\neq j$ } \\\\\n",
        "\\text{$0 \\quad$en otro caso}\n",
        "\\end{cases}\n",
        "$"
      ]
    },
    {
      "cell_type": "code",
      "metadata": {
        "id": "J3UPJKJj_7HL",
        "cellView": "form"
      },
      "source": [
        "#@title\n",
        "def binary_mask(sources):\n",
        "  sources = np.stack(sources)\n",
        "  print(sources.shape)\n",
        "  binary_mask = (np.max(sources,axis=0)==sources)\n",
        " \n",
        "  return binary_mask\n",
        "\n",
        "b_masks = binary_mask([np.abs(h_spec),np.abs(p_spec)])\n",
        "h_mask = b_masks[0]\n",
        "p_mask = b_masks[1]\n",
        "\n",
        "fig,ax = plt.subplots(nrows=1,ncols=2,figsize=(20,10))\n",
        "ax[0].imshow(h_mask,cmap='Reds',aspect='auto',origin='bottom')\n",
        "ax[0].set_title('Filtro armónico')\n",
        "ax[1].imshow(p_mask,cmap='Reds',aspect='auto',origin='bottom')\n",
        "ax[1].set_title('Filtro percusivo')\n",
        "\n",
        "filtered_perc = p_mask*np.abs(spec)\n",
        "filtered_harm = h_mask*np.abs(spec)\n",
        "\n",
        "fig,ax = plt.subplots(ncols=2,nrows=1,figsize=(20,10))\n",
        "stft_plot = 10*np.log10(np.abs(filtered_harm) + 1e-9)\n",
        "ax[0].imshow(stft_plot,aspect='auto',origin='bottom',vmin=np.quantile(stft_plot,0.1),vmax=np.max(stft_plot))\n",
        "ax[0].set_title('Componentes armonicas')\n",
        "stft_plot = 10*np.log10(np.abs(filtered_perc) + 1e-9)\n",
        "ax[1].set_title('Componentes percusivas')\n",
        "ax[1].imshow(stft_plot,aspect='auto',origin='bottom',vmin=np.quantile(stft_plot,0.1),vmax=np.max(stft_plot))"
      ],
      "execution_count": null,
      "outputs": []
    },
    {
      "cell_type": "markdown",
      "metadata": {
        "id": "pk5fs0aHG583"
      },
      "source": [
        "#### Máscaras suaves\n",
        "\n",
        "En el caso de que 2 fuentes se solapen en el espectrograma, habrían regiones del mismo que pertenecerían a ambas. Sin embargo, las máscaras binarias asignarían la región a una sola de las fuentes. Es necesario entonces construir máscaras más suaves, que permitan asignar una región del espectrograma a más de una fuente.\n",
        "\n",
        "Una opción son las máscaras suaves:\n",
        "\n",
        "$M_i[n,k]=\\frac{S_i[n,k]}{\\sum_{j=1}^{N}S_j[n,k]}$\n",
        "\n",
        "en las que el valor de la máscara queda determinado por cuánto contribuye una fuente $S_i$ al valor de un elemento del espectrograma, relativo a la contribución de las $N$ fuentes presentes en la mezcla.\n",
        "\n",
        "Pensar: ¿por qué las máscaras suaves introducen más interferencias pero reducen los artefactos comparado con máscaras binarias?"
      ]
    },
    {
      "cell_type": "code",
      "metadata": {
        "id": "MwzJ0TZsEg7I",
        "cellView": "form"
      },
      "source": [
        "#@title\n",
        "def soft_mask(sources):\n",
        "  masks = []\n",
        "  mix_sum = np.sum(np.array(sources),axis=0)\n",
        "  for source in sources:\n",
        "    masks.append(source/mix_sum)\n",
        "\n",
        "  return masks\n",
        "\n",
        "s_masks = soft_mask([np.abs(h_spec),np.abs(p_spec)])\n",
        "h_mask = s_masks[0]\n",
        "p_mask = s_masks[1]\n",
        "\n",
        "fig,ax = plt.subplots(nrows=1,ncols=2,figsize=(20,10))\n",
        "ax[0].imshow(h_mask,cmap='Reds',aspect='auto',origin='bottom')\n",
        "ax[0].set_title('Filtro armónico')\n",
        "ax[1].imshow(p_mask,cmap='Reds',aspect='auto',origin='bottom')\n",
        "ax[1].set_title('Filtro percusivo')\n",
        "\n",
        "filtered_perc = p_mask*np.abs(spec)\n",
        "filtered_harm = h_mask*np.abs(spec)\n",
        "\n",
        "fig,ax = plt.subplots(ncols=2,nrows=1,figsize=(20,10))\n",
        "stft_plot = 10*np.log10(np.abs(filtered_harm) + 1e-9)\n",
        "ax[0].imshow(stft_plot,aspect='auto',origin='bottom',vmin=np.quantile(stft_plot,0.1),vmax=np.max(stft_plot))\n",
        "ax[0].set_title('Componentes armonicas')\n",
        "stft_plot = 10*np.log10(np.abs(filtered_perc) + 1e-9)\n",
        "ax[1].set_title('Componentes percusivas')\n",
        "ax[1].imshow(stft_plot,aspect='auto',origin='bottom',vmin=np.quantile(stft_plot,0.1),vmax=np.max(stft_plot))\n",
        "\n"
      ],
      "execution_count": null,
      "outputs": []
    },
    {
      "cell_type": "markdown",
      "metadata": {
        "id": "UPNLfZKdHkQ4"
      },
      "source": [
        "#### Máscaras ¿híbridas?\n",
        "\n",
        "Otra opción es combinar ambas máscaras (binarias y suaves):\n",
        "\n",
        "$M_{híbrida}[n,k]=\\alpha M_{suave}[n,k] + (1-\\alpha) M_{binaria}[n,k]$"
      ]
    },
    {
      "cell_type": "code",
      "metadata": {
        "id": "mNBwHF9RHG20",
        "cellView": "form"
      },
      "source": [
        "def hybrid_mask(sources,alpha):\n",
        "  softmask = np.array(soft_mask(sources))\n",
        "  binarymask = np.array(binary_mask(sources))\n",
        "\n",
        "  hybridmask = alpha*softmask + (1-alpha)*binarymask\n",
        "\n",
        "  return list(hybridmask)\n",
        "\n",
        "def librosa_hpss(path,ksize=17,window_size=2048,hop_size=512,window = None,init_audio=None,end_audio=None,alpha=0.5):\n",
        "  if window is None:\n",
        "    window = np.hanning(window_size)\n",
        "\n",
        "  x, fs = librosa.core.load(path,sr=None)\n",
        "\n",
        "  if init_audio is None:\n",
        "    init_audio = 0\n",
        "  else:\n",
        "    init_audio = int(init_audio*fs)\n",
        "  if end_audio is None:\n",
        "    end_audio = x.shape[0]\n",
        "  else:\n",
        "    end_audio = int(end_audio*fs)\n",
        "\n",
        "  x = x[init_audio:end_audio]\n",
        "\n",
        "  spectrogram = librosa.stft(x,win_length = window_size,hop_length=hop_size,window=window)\n",
        "\n",
        "  h_components, p_components = librosa.decompose.hpss(spectrogram,kernel_size = ksize)\n",
        "\n",
        "  masks = hybrid_mask([np.abs(h_components),np.abs(p_components)],alpha=alpha)\n",
        "  h_mask = masks[0]\n",
        "  p_mask = masks[1]\n",
        "\n",
        "  estimated_h_spec = h_mask*spectrogram\n",
        "  estimated_p_spec = p_mask*spectrogram\n",
        "\n",
        "  h = librosa.istft(estimated_h_spec,hop_length=hop_size,win_length=window_size,window=window)\n",
        "  p = librosa.istft(estimated_p_spec,hop_length=hop_size,win_length=window_size,window=window)\n",
        "\n",
        "  return spectrogram,h,p,h_spec,p_spec,estimated_h_spec,estimated_p_spec,h_mask,p_mask,fs\n",
        "\n",
        "PATH = \"01 Billie Jean.mp3\" #@param {type:\"string\"}\n",
        "WIN_SIZE = 2048 #@param {type:\"number\"}\n",
        "HOP_SIZE = 512 #@param {type:\"number\"}\n",
        "kernel_size = 30 #@param {type:\"slider\", min:5, max: 50}\n",
        "\n",
        "win_type = \"hanning\" #@param [\"hanning\", \"blackman\", \"rectangular\", \"triangular\"]\n",
        "init_audio = 25 #@param {type:\"number\"}\n",
        "end_audio = 35 #@param {type:\"number\"}\n",
        "alpha = 0.7 #@param {type:\"slider\", min:0, max:1, step:0.05}\n",
        "\n",
        "window = {'hanning':np.hanning,'blackman':np.blackman,'rectangular':np.ones,'triangular':np.bartlett} \n",
        "\n",
        "spectrogram,h,p,h_spec,p_spec,estimated_h_spec,estimated_p_spec,h_mask,p_mask,fs = librosa_hpss(PATH,kernel_size,WIN_SIZE,HOP_SIZE,window[win_type](WIN_SIZE),init_audio=init_audio,end_audio=end_audio)\n",
        "\n",
        "stft_plot = 10*np.log10(np.abs(spectrogram) + 1e-9)\n",
        "plt.figure(figsize=(20,10))\n",
        "plt.title('Original spectrogram')\n",
        "plt.imshow(stft_plot,aspect='auto',origin='bottom',vmin=np.quantile(stft_plot,0.1),vmax=np.max(stft_plot))\n",
        "\n",
        "fig,ax = plt.subplots(ncols=2,nrows=1,figsize=(20,10))\n",
        "stft_plot = 10*np.log10(np.abs(h_spec) + 1e-9)\n",
        "ax[0].imshow(stft_plot,aspect='auto',origin='bottom',vmin=np.quantile(stft_plot,0.1),vmax=np.max(stft_plot))\n",
        "ax[0].set_title('Componentes armonicas')\n",
        "stft_plot = 10*np.log10(np.abs(p_spec) + 1e-9)\n",
        "ax[1].set_title('Componentes percusivas')\n",
        "ax[1].imshow(stft_plot,aspect='auto',origin='bottom',vmin=np.quantile(stft_plot,0.1),vmax=np.max(stft_plot))\n",
        "\n",
        "fig,ax = plt.subplots(nrows=1,ncols=2,figsize=(20,10))\n",
        "ax[0].imshow(h_mask,cmap='Reds',aspect='auto',origin='bottom')\n",
        "ax[0].set_title('Filtro armónico')\n",
        "ax[1].imshow(p_mask,cmap='Reds',aspect='auto',origin='bottom')\n",
        "ax[1].set_title('Filtro percusivo')\n",
        "\n",
        "fig,ax = plt.subplots(ncols=2,nrows=1,figsize=(20,10))\n",
        "stft_plot = 10*np.log10(np.abs(estimated_h_spec) + 1e-9)\n",
        "ax[0].imshow(stft_plot,aspect='auto',origin='bottom',vmin=np.quantile(stft_plot,0.1),vmax=np.max(stft_plot))\n",
        "ax[0].set_title('Fuentes armonicas')\n",
        "stft_plot = 10*np.log10(np.abs(estimated_p_spec) + 1e-9)\n",
        "ax[1].set_title('Fuentes percusivas')\n",
        "ax[1].imshow(stft_plot,aspect='auto',origin='bottom',vmin=np.quantile(stft_plot,0.1),vmax=np.max(stft_plot))\n",
        "\n",
        "print('Componentes armónicas')\n",
        "display(Audio(h,rate=fs))\n",
        "print('Componentes percusivas')\n",
        "display(Audio(p,rate=fs))\n"
      ],
      "execution_count": null,
      "outputs": []
    },
    {
      "cell_type": "markdown",
      "metadata": {
        "id": "3F1FF9kPMkeG"
      },
      "source": [
        "### What about phase?"
      ]
    },
    {
      "cell_type": "markdown",
      "metadata": {
        "id": "w8Pv6x5jRCaU"
      },
      "source": [
        "#### Griffin-Lim\n",
        "\n",
        "![Untitled Diagram.png](data:image/png;base64,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)"
      ]
    },
    {
      "cell_type": "code",
      "metadata": {
        "id": "vFyp2i6QIEuN",
        "cellView": "form"
      },
      "source": [
        "#@title\n",
        "original_phase_h = librosa.istft(estimated_h_spec,hop_length=HOP_SIZE,win_length=WIN_SIZE,window=window[win_type](WIN_SIZE))\n",
        "original_phase_p = librosa.istft(estimated_p_spec,hop_length=HOP_SIZE,win_length=WIN_SIZE,window=window[win_type](WIN_SIZE))\n",
        "\n",
        "print('Componentes armónicas (fase original)')\n",
        "display(Audio(original_phase_h,rate=fs))\n",
        "print('Componentes percusivas (fase original)')\n",
        "display(Audio(original_phase_p,rate=fs))\n",
        "\n",
        "random_phase_h = librosa.istft(np.abs(estimated_h_spec)*np.exp(1.0j*np.random.uniform(-np.pi,np.pi,size=estimated_h_spec.shape)),hop_length=HOP_SIZE,win_length=WIN_SIZE,window=window[win_type](WIN_SIZE))\n",
        "random_phase_p = librosa.istft(np.abs(estimated_p_spec)*np.exp(1.0j*np.random.uniform(-np.pi,np.pi,size=estimated_p_spec.shape)),hop_length=HOP_SIZE,win_length=WIN_SIZE,window=window[win_type](WIN_SIZE))\n",
        "\n",
        "print('Componentes armónicas (fase aleatoria)')\n",
        "display(Audio(random_phase_h,rate=fs))\n",
        "print('Componentes percusivas (fase aleatoria)')\n",
        "display(Audio(random_phase_p,rate=fs))\n",
        "\n",
        "gl_phase_h = librosa.griffinlim(estimated_h_spec,n_iter = 100,init=None,hop_length=HOP_SIZE,win_length=WIN_SIZE,window=window[win_type](WIN_SIZE))\n",
        "gl_phase_p = librosa.griffinlim(estimated_p_spec,n_iter = 100,init=None,hop_length=HOP_SIZE,win_length=WIN_SIZE,window=window[win_type](WIN_SIZE))\n",
        "\n",
        "print('Componentes armónicas (fase estimada)')\n",
        "display(Audio(gl_phase_h,rate=fs))\n",
        "print('Componentes percusivas (fase estimada)')\n",
        "display(Audio(gl_phase_p,rate=fs))"
      ],
      "execution_count": null,
      "outputs": []
    }
  ]
}